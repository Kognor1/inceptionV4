{
  "nbformat": 4,
  "nbformat_minor": 0,
  "metadata": {
    "kernelspec": {
      "display_name": "Python 3",
      "language": "python",
      "name": "python3"
    },
    "language_info": {
      "codemirror_mode": {
        "name": "ipython",
        "version": 3
      },
      "file_extension": ".py",
      "mimetype": "text/x-python",
      "name": "python",
      "nbconvert_exporter": "python",
      "pygments_lexer": "ipython3",
      "version": "3.8.1"
    },
    "colab": {
      "name": "Inception_V4.ipynb",
      "provenance": [],
      "collapsed_sections": []
    },
    "accelerator": "GPU"
  },
  "cells": [
    {
      "cell_type": "code",
      "metadata": {
        "id": "81qtiOAEQAmO",
        "colab_type": "code",
        "colab": {
          "base_uri": "https://localhost:8080/",
          "height": 35
        },
        "outputId": "d098e752-26fe-4877-e125-2417a2b0661b"
      },
      "source": [
        "from keras.layers import Input, concatenate, Dropout,Dense ,Lambda, Flatten, Activation,Lambda\n",
        "from keras.layers import MaxPooling2D, Convolution2D, AveragePooling2D\n",
        "from keras.layers import BatchNormalization\n",
        "from keras.optimizers import SGD,Adam\n",
        "from keras.models import Model\n",
        "from keras.datasets.cifar10 import load_data\n",
        "from tensorflow.keras import backend as K\n",
        "from matplotlib import pyplot\n",
        "import keras\n",
        "from keras.utils import to_categorical\n",
        "from PIL import Image\n",
        "import numpy\n",
        "import tensorflow as tf "
      ],
      "execution_count": null,
      "outputs": [
        {
          "output_type": "stream",
          "text": [
            "Using TensorFlow backend.\n"
          ],
          "name": "stderr"
        }
      ]
    },
    {
      "cell_type": "code",
      "metadata": {
        "id": "HrZzIgxtpIkB",
        "colab_type": "code",
        "colab": {
          "base_uri": "https://localhost:8080/",
          "height": 35
        },
        "outputId": "7a1ac948-051a-4352-f26f-5fb0ff34b39b"
      },
      "source": [
        "from google.colab import drive\n",
        "drive.mount('/content/drive', force_remount=True)"
      ],
      "execution_count": null,
      "outputs": [
        {
          "output_type": "stream",
          "text": [
            "Mounted at /content/drive\n"
          ],
          "name": "stdout"
        }
      ]
    },
    {
      "cell_type": "code",
      "metadata": {
        "id": "owUd7BlUQAmS",
        "colab_type": "code",
        "colab": {}
      },
      "source": [
        "class InceptionV_4():\n",
        "    def __init__(self,num_classes,dropout):\n",
        "        self.channel_axis=-1\n",
        "        self.inputs= Input((299,299,3))\n",
        "        #self.inputs =Lambda(lambda image: keras.backend.(image, (299,299)))(self.inputs)\n",
        "        self.net = self.Base(self.inputs)\n",
        "       \n",
        "        self.net = AveragePooling2D((8,8),border_mode=\"valid\")(self.net)\n",
        "        self.net = Dropout(dropout)(self.net)\n",
        "        self.net = Flatten()(self.net)\n",
        "        self.predictions=Dense(output_dim=num_classes,activation=\"softmax\")(self.net)\n",
        "        self.model = Model(self.inputs,self.predictions,name=\"InceptionV_4\")\n",
        "        opt = Adam(lr=0.001)\n",
        "        self.model.compile(optimizer=opt, loss='categorical_crossentropy', metrics=['accuracy'])\n",
        "        \n",
        "    \n",
        "    \n",
        "    def conv2d_apply(self,x, nb_filter, nb_row, nb_col,\n",
        "        border_mode='same', subsample=(1, 1), bias=False):\n",
        "        x = Convolution2D(nb_filter, nb_row, nb_col,\n",
        "                      subsample=subsample,\n",
        "                      border_mode=border_mode,\n",
        "                      bias=bias)(x)\n",
        "        x = BatchNormalization(axis=self.channel_axis)(x)\n",
        "        x = Activation('relu')(x)\n",
        "        return x\n",
        "\n",
        "    def Inception_A(self,input):\n",
        "        branch_0 = self.conv2d_apply(input, 96, 1, 1)\n",
        "\n",
        "        branch_1 = self.conv2d_apply(input, 64, 1, 1)\n",
        "        branch_1 = self.conv2d_apply(branch_1, 96, 3, 3)\n",
        "\n",
        "        branch_2 = self.conv2d_apply(input, 64, 1, 1)\n",
        "        branch_2 = self.conv2d_apply(branch_2, 96, 3, 3)\n",
        "        branch_2 = self.conv2d_apply(branch_2, 96, 3, 3)\n",
        "\n",
        "        branch_3 = AveragePooling2D((3,3), strides=(1,1), border_mode='same')(input)\n",
        "        branch_3 = self.conv2d_apply(branch_3, 96, 1, 1)\n",
        "\n",
        "        x = concatenate([branch_0, branch_1, branch_2, branch_3], axis=self.channel_axis)\n",
        "        return x\n",
        "       \n",
        "    def Reduction_A(self,input):\n",
        "        branch_0 = self.conv2d_apply(input, 384, 3, 3, subsample=(2,2), border_mode='valid')\n",
        "\n",
        "        branch_1 = self.conv2d_apply(input, 192, 1, 1)\n",
        "        branch_1 = self.conv2d_apply(branch_1, 224, 3, 3)\n",
        "        branch_1 = self.conv2d_apply(branch_1, 256, 3, 3, subsample=(2,2), border_mode='valid')\n",
        "\n",
        "        branch_2 = MaxPooling2D((3,3), strides=(2,2), border_mode='valid')(input)\n",
        "\n",
        "        x = concatenate([branch_0, branch_1, branch_2], axis=self.channel_axis)\n",
        "        return x\n",
        "       \n",
        "\n",
        "    def Inception_B(self,input):\n",
        "        branch_0 = self.conv2d_apply(input, 384, 1, 1)\n",
        "\n",
        "        branch_1 = self.conv2d_apply(input, 192, 1, 1)\n",
        "        branch_1 = self.conv2d_apply(branch_1, 224, 1, 7)\n",
        "        branch_1 = self.conv2d_apply(branch_1, 256, 7, 1)\n",
        "\n",
        "        branch_2 = self.conv2d_apply(input, 192, 1, 1)\n",
        "        branch_2 = self.conv2d_apply(branch_2, 192, 7, 1)\n",
        "        branch_2 = self.conv2d_apply(branch_2, 224, 1, 7)\n",
        "        branch_2 = self.conv2d_apply(branch_2, 224, 7, 1)\n",
        "        branch_2 = self.conv2d_apply(branch_2, 256, 1, 7)\n",
        "\n",
        "        branch_3 = AveragePooling2D((3,3), strides=(1,1), border_mode='same')(input)\n",
        "        branch_3 = self.conv2d_apply(branch_3, 128, 1, 1)\n",
        "\n",
        "        x = concatenate([branch_0, branch_1, branch_2, branch_3], axis=self.channel_axis)\n",
        "        return x\n",
        "        \n",
        "    def Reduction_B(self,input):\n",
        "        \n",
        "        branch_0 = self.conv2d_apply(input, 192, 1, 1)\n",
        "        branch_0 = self.conv2d_apply(branch_0, 192, 3, 3, subsample=(2, 2), border_mode='valid')\n",
        "\n",
        "        branch_1 = self.conv2d_apply(input, 256, 1, 1)\n",
        "        branch_1 = self.conv2d_apply(branch_1, 256, 1, 7)\n",
        "        branch_1 = self.conv2d_apply(branch_1, 320, 7, 1)\n",
        "        branch_1 = self.conv2d_apply(branch_1, 320, 3, 3, subsample=(2,2), border_mode='valid')\n",
        "\n",
        "        branch_2 = MaxPooling2D((3, 3), strides=(2, 2), border_mode='valid')(input)\n",
        "\n",
        "        x = concatenate([branch_0, branch_1, branch_2], axis=self.channel_axis)\n",
        "        return x\n",
        "   \n",
        "\n",
        "    def Inception_C(self,input):\n",
        "        branch_0 = self.conv2d_apply(input, 256, 1, 1)\n",
        "\n",
        "        branch_1 = self.conv2d_apply(input, 384, 1, 1)\n",
        "        branch_10 = self.conv2d_apply(branch_1, 256, 1, 3)\n",
        "        branch_11 = self.conv2d_apply(branch_1, 256, 3, 1)\n",
        "        branch_1 = concatenate([branch_10, branch_11], axis=self.channel_axis)\n",
        "\n",
        "\n",
        "        branch_2 = self.conv2d_apply(input, 384, 1, 1)\n",
        "        branch_2 = self.conv2d_apply(branch_2, 448, 3, 1)\n",
        "        branch_2 = self.conv2d_apply(branch_2, 512, 1, 3)\n",
        "        branch_20 = self.conv2d_apply(branch_2, 256, 1, 3)\n",
        "        branch_21 = self.conv2d_apply(branch_2, 256, 3, 1)\n",
        "        branch_2 = concatenate([branch_20, branch_21], axis=self.channel_axis)\n",
        "\n",
        "        branch_3 = AveragePooling2D((3, 3), strides=(1, 1), border_mode='same')(input)\n",
        "        branch_3 = self.conv2d_apply(branch_3, 256, 1, 1)\n",
        "\n",
        "        x = concatenate([branch_0, branch_1, branch_2, branch_3], axis=self.channel_axis)\n",
        "        return x\n",
        "    \n",
        "    def Stem(self,input):\n",
        "        net = self.conv2d_apply(input, 32, 3, 3, subsample=(2,2), border_mode='valid')\n",
        "        net = self.conv2d_apply(net, 32, 3, 3, border_mode='valid')\n",
        "        net = self.conv2d_apply(net, 64, 3, 3)\n",
        "\n",
        "        branch_0 = MaxPooling2D((3,3), strides=(2,2), border_mode='valid')(net)\n",
        "\n",
        "        branch_1 = self.conv2d_apply(net, 96, 3, 3, subsample=(2,2), border_mode='valid')\n",
        "\n",
        "        net = concatenate([branch_0, branch_1], axis=self.channel_axis)\n",
        "\n",
        "        branch_0 = self.conv2d_apply(net, 64, 1, 1)\n",
        "        branch_0 = self.conv2d_apply(branch_0, 96, 3, 3, border_mode='valid')\n",
        "\n",
        "        branch_1 = self.conv2d_apply(net, 64, 1, 1)\n",
        "        branch_1 = self.conv2d_apply(branch_1, 64, 1, 7)\n",
        "        branch_1 = self.conv2d_apply(branch_1, 64, 7, 1)\n",
        "        branch_1 = self.conv2d_apply(branch_1, 96, 3, 3, border_mode='valid')\n",
        "\n",
        "        net = concatenate([branch_0, branch_1], axis=self.channel_axis)\n",
        "\n",
        "        branch_0 = self.conv2d_apply(net, 192, 3, 3, subsample=(2,2), border_mode='valid')\n",
        "        branch_1 = MaxPooling2D((3,3), strides=(2,2), border_mode='valid')(net)\n",
        "\n",
        "        net = concatenate([branch_0, branch_1], axis=self.channel_axis)\n",
        "        return net\n",
        "       \n",
        "    def Base(self,input):\n",
        "        net = self.Stem(input)\n",
        "        for idx in range(4):\n",
        "            net = self.Inception_A(net)\n",
        "\n",
        "        # 35 x 35 x 384\n",
        "     \n",
        "        net = self.Reduction_A(net)\n",
        "\n",
        "        # 17 x 17 x 1024\n",
        "        # 7 x Inception-B blocks\n",
        "        for idx in range(7):\n",
        "            net = self.Inception_B(net)\n",
        "\n",
        "        # 17 x 17 x 1024\n",
        "        # Reduction-B block\n",
        "        net = self.Reduction_B(net)\n",
        "\n",
        "        # 8 x 8 x 1536\n",
        "        # 3 x Inception-C blocks\n",
        "        for idx in range(3):\n",
        "            net = self.Inception_C(net)\n",
        "        return net\n",
        "        "
      ],
      "execution_count": null,
      "outputs": []
    },
    {
      "cell_type": "code",
      "metadata": {
        "id": "CFCrcNVzc7GK",
        "colab_type": "code",
        "colab": {
          "base_uri": "https://localhost:8080/",
          "height": 752
        },
        "outputId": "8636eb33-5455-4a46-f75a-9ab4c1846a46"
      },
      "source": [
        "inc_v4= InceptionV_4(10,0.8)"
      ],
      "execution_count": null,
      "outputs": [
        {
          "output_type": "stream",
          "text": [
            "/usr/local/lib/python3.6/dist-packages/ipykernel_launcher.py:23: UserWarning: Update your `Conv2D` call to the Keras 2 API: `Conv2D(32, (3, 3), strides=(2, 2), padding=\"valid\", use_bias=False)`\n",
            "/usr/local/lib/python3.6/dist-packages/ipykernel_launcher.py:23: UserWarning: Update your `Conv2D` call to the Keras 2 API: `Conv2D(32, (3, 3), strides=(1, 1), padding=\"valid\", use_bias=False)`\n",
            "/usr/local/lib/python3.6/dist-packages/ipykernel_launcher.py:23: UserWarning: Update your `Conv2D` call to the Keras 2 API: `Conv2D(64, (3, 3), strides=(1, 1), padding=\"same\", use_bias=False)`\n",
            "/usr/local/lib/python3.6/dist-packages/ipykernel_launcher.py:119: UserWarning: Update your `MaxPooling2D` call to the Keras 2 API: `MaxPooling2D((3, 3), strides=(2, 2), padding=\"valid\")`\n",
            "/usr/local/lib/python3.6/dist-packages/ipykernel_launcher.py:23: UserWarning: Update your `Conv2D` call to the Keras 2 API: `Conv2D(96, (3, 3), strides=(2, 2), padding=\"valid\", use_bias=False)`\n",
            "/usr/local/lib/python3.6/dist-packages/ipykernel_launcher.py:23: UserWarning: Update your `Conv2D` call to the Keras 2 API: `Conv2D(64, (1, 1), strides=(1, 1), padding=\"same\", use_bias=False)`\n",
            "/usr/local/lib/python3.6/dist-packages/ipykernel_launcher.py:23: UserWarning: Update your `Conv2D` call to the Keras 2 API: `Conv2D(96, (3, 3), strides=(1, 1), padding=\"valid\", use_bias=False)`\n",
            "/usr/local/lib/python3.6/dist-packages/ipykernel_launcher.py:23: UserWarning: Update your `Conv2D` call to the Keras 2 API: `Conv2D(64, (1, 7), strides=(1, 1), padding=\"same\", use_bias=False)`\n",
            "/usr/local/lib/python3.6/dist-packages/ipykernel_launcher.py:23: UserWarning: Update your `Conv2D` call to the Keras 2 API: `Conv2D(64, (7, 1), strides=(1, 1), padding=\"same\", use_bias=False)`\n",
            "/usr/local/lib/python3.6/dist-packages/ipykernel_launcher.py:23: UserWarning: Update your `Conv2D` call to the Keras 2 API: `Conv2D(192, (3, 3), strides=(2, 2), padding=\"valid\", use_bias=False)`\n",
            "/usr/local/lib/python3.6/dist-packages/ipykernel_launcher.py:136: UserWarning: Update your `MaxPooling2D` call to the Keras 2 API: `MaxPooling2D((3, 3), strides=(2, 2), padding=\"valid\")`\n",
            "/usr/local/lib/python3.6/dist-packages/ipykernel_launcher.py:23: UserWarning: Update your `Conv2D` call to the Keras 2 API: `Conv2D(96, (1, 1), strides=(1, 1), padding=\"same\", use_bias=False)`\n",
            "/usr/local/lib/python3.6/dist-packages/ipykernel_launcher.py:23: UserWarning: Update your `Conv2D` call to the Keras 2 API: `Conv2D(96, (3, 3), strides=(1, 1), padding=\"same\", use_bias=False)`\n",
            "/usr/local/lib/python3.6/dist-packages/ipykernel_launcher.py:38: UserWarning: Update your `AveragePooling2D` call to the Keras 2 API: `AveragePooling2D((3, 3), strides=(1, 1), padding=\"same\")`\n",
            "/usr/local/lib/python3.6/dist-packages/ipykernel_launcher.py:23: UserWarning: Update your `Conv2D` call to the Keras 2 API: `Conv2D(384, (3, 3), strides=(2, 2), padding=\"valid\", use_bias=False)`\n",
            "/usr/local/lib/python3.6/dist-packages/ipykernel_launcher.py:23: UserWarning: Update your `Conv2D` call to the Keras 2 API: `Conv2D(192, (1, 1), strides=(1, 1), padding=\"same\", use_bias=False)`\n",
            "/usr/local/lib/python3.6/dist-packages/ipykernel_launcher.py:23: UserWarning: Update your `Conv2D` call to the Keras 2 API: `Conv2D(224, (3, 3), strides=(1, 1), padding=\"same\", use_bias=False)`\n",
            "/usr/local/lib/python3.6/dist-packages/ipykernel_launcher.py:23: UserWarning: Update your `Conv2D` call to the Keras 2 API: `Conv2D(256, (3, 3), strides=(2, 2), padding=\"valid\", use_bias=False)`\n",
            "/usr/local/lib/python3.6/dist-packages/ipykernel_launcher.py:51: UserWarning: Update your `MaxPooling2D` call to the Keras 2 API: `MaxPooling2D((3, 3), strides=(2, 2), padding=\"valid\")`\n",
            "/usr/local/lib/python3.6/dist-packages/ipykernel_launcher.py:23: UserWarning: Update your `Conv2D` call to the Keras 2 API: `Conv2D(384, (1, 1), strides=(1, 1), padding=\"same\", use_bias=False)`\n",
            "/usr/local/lib/python3.6/dist-packages/ipykernel_launcher.py:23: UserWarning: Update your `Conv2D` call to the Keras 2 API: `Conv2D(224, (1, 7), strides=(1, 1), padding=\"same\", use_bias=False)`\n",
            "/usr/local/lib/python3.6/dist-packages/ipykernel_launcher.py:23: UserWarning: Update your `Conv2D` call to the Keras 2 API: `Conv2D(256, (7, 1), strides=(1, 1), padding=\"same\", use_bias=False)`\n",
            "/usr/local/lib/python3.6/dist-packages/ipykernel_launcher.py:23: UserWarning: Update your `Conv2D` call to the Keras 2 API: `Conv2D(192, (7, 1), strides=(1, 1), padding=\"same\", use_bias=False)`\n",
            "/usr/local/lib/python3.6/dist-packages/ipykernel_launcher.py:23: UserWarning: Update your `Conv2D` call to the Keras 2 API: `Conv2D(224, (7, 1), strides=(1, 1), padding=\"same\", use_bias=False)`\n",
            "/usr/local/lib/python3.6/dist-packages/ipykernel_launcher.py:23: UserWarning: Update your `Conv2D` call to the Keras 2 API: `Conv2D(256, (1, 7), strides=(1, 1), padding=\"same\", use_bias=False)`\n",
            "/usr/local/lib/python3.6/dist-packages/ipykernel_launcher.py:70: UserWarning: Update your `AveragePooling2D` call to the Keras 2 API: `AveragePooling2D((3, 3), strides=(1, 1), padding=\"same\")`\n",
            "/usr/local/lib/python3.6/dist-packages/ipykernel_launcher.py:23: UserWarning: Update your `Conv2D` call to the Keras 2 API: `Conv2D(128, (1, 1), strides=(1, 1), padding=\"same\", use_bias=False)`\n",
            "/usr/local/lib/python3.6/dist-packages/ipykernel_launcher.py:23: UserWarning: Update your `Conv2D` call to the Keras 2 API: `Conv2D(256, (1, 1), strides=(1, 1), padding=\"same\", use_bias=False)`\n",
            "/usr/local/lib/python3.6/dist-packages/ipykernel_launcher.py:23: UserWarning: Update your `Conv2D` call to the Keras 2 API: `Conv2D(320, (7, 1), strides=(1, 1), padding=\"same\", use_bias=False)`\n",
            "/usr/local/lib/python3.6/dist-packages/ipykernel_launcher.py:23: UserWarning: Update your `Conv2D` call to the Keras 2 API: `Conv2D(320, (3, 3), strides=(2, 2), padding=\"valid\", use_bias=False)`\n",
            "/usr/local/lib/python3.6/dist-packages/ipykernel_launcher.py:86: UserWarning: Update your `MaxPooling2D` call to the Keras 2 API: `MaxPooling2D((3, 3), strides=(2, 2), padding=\"valid\")`\n",
            "/usr/local/lib/python3.6/dist-packages/ipykernel_launcher.py:23: UserWarning: Update your `Conv2D` call to the Keras 2 API: `Conv2D(256, (1, 3), strides=(1, 1), padding=\"same\", use_bias=False)`\n",
            "/usr/local/lib/python3.6/dist-packages/ipykernel_launcher.py:23: UserWarning: Update your `Conv2D` call to the Keras 2 API: `Conv2D(256, (3, 1), strides=(1, 1), padding=\"same\", use_bias=False)`\n",
            "/usr/local/lib/python3.6/dist-packages/ipykernel_launcher.py:23: UserWarning: Update your `Conv2D` call to the Keras 2 API: `Conv2D(448, (3, 1), strides=(1, 1), padding=\"same\", use_bias=False)`\n",
            "/usr/local/lib/python3.6/dist-packages/ipykernel_launcher.py:23: UserWarning: Update your `Conv2D` call to the Keras 2 API: `Conv2D(512, (1, 3), strides=(1, 1), padding=\"same\", use_bias=False)`\n",
            "/usr/local/lib/python3.6/dist-packages/ipykernel_launcher.py:108: UserWarning: Update your `AveragePooling2D` call to the Keras 2 API: `AveragePooling2D((3, 3), strides=(1, 1), padding=\"same\")`\n",
            "/usr/local/lib/python3.6/dist-packages/ipykernel_launcher.py:8: UserWarning: Update your `AveragePooling2D` call to the Keras 2 API: `AveragePooling2D((8, 8), padding=\"valid\")`\n",
            "  \n",
            "/usr/local/lib/python3.6/dist-packages/ipykernel_launcher.py:11: UserWarning: Update your `Dense` call to the Keras 2 API: `Dense(activation=\"softmax\", units=10)`\n",
            "  # This is added back by InteractiveShellApp.init_path()\n"
          ],
          "name": "stderr"
        }
      ]
    },
    {
      "cell_type": "code",
      "metadata": {
        "id": "Dkgi08bkQAmU",
        "colab_type": "code",
        "colab": {
          "base_uri": "https://localhost:8080/",
          "height": 54
        },
        "outputId": "e14d0173-dd2b-4cab-e7f9-304719b7c0ec"
      },
      "source": [
        "(x_train, y_train), (x_test, y_test) =load_data()"
      ],
      "execution_count": null,
      "outputs": [
        {
          "output_type": "stream",
          "text": [
            "Downloading data from https://www.cs.toronto.edu/~kriz/cifar-10-python.tar.gz\n",
            "170500096/170498071 [==============================] - 11s 0us/step\n"
          ],
          "name": "stdout"
        }
      ]
    },
    {
      "cell_type": "code",
      "metadata": {
        "id": "d4L1IN0hQAmW",
        "colab_type": "code",
        "colab": {}
      },
      "source": [
        "\n",
        "x_train=x_train[:10000]\n",
        "y_train=y_train[:10000]\n",
        "# x_test=x_test[:1000]\n",
        "# y_test=y_test[:1000]"
      ],
      "execution_count": null,
      "outputs": []
    },
    {
      "cell_type": "code",
      "metadata": {
        "id": "JCnIBvUvQAmZ",
        "colab_type": "code",
        "colab": {
          "base_uri": "https://localhost:8080/",
          "height": 72
        },
        "outputId": "286cfb1b-4af2-4a13-d921-7e5e20d3ad1e"
      },
      "source": [
        "print('Train: X=%s, y=%s' % (x_train.shape, y_train.shape))\n",
        "print('Test: X=%s, y=%s' % (x_test.shape, y_test.shape))\n",
        "# plot first few images\n",
        "im_res_train=[]\n",
        "im_res_test=[]\n",
        "for i in range(x_train.shape[0]):\n",
        "    img = Image.fromarray(x_train[i])\n",
        "    img= img.resize((299,299))\n",
        "\n",
        "    im_res_train.append(numpy.array(img))\n",
        "# for i in range(x_test.shape[0]):\n",
        "#     img = Image.fromarray(x_test[i])\n",
        "#     img= img.resize((299,299))\n",
        "\n",
        "#     im_res_test.append(numpy.array(img))\n",
        "    \n",
        "    \n",
        "x_train_resize = numpy.array(im_res_train)\n",
        "# x_test_resize = numpy.array(im_res_test)\n",
        "print(x_train_resize.shape)\n",
        "pyplot.show()"
      ],
      "execution_count": null,
      "outputs": [
        {
          "output_type": "stream",
          "text": [
            "Train: X=(10000, 32, 32, 3), y=(10000, 1)\n",
            "Test: X=(10000, 32, 32, 3), y=(10000, 1)\n",
            "(10000, 299, 299, 3)\n"
          ],
          "name": "stdout"
        }
      ]
    },
    {
      "cell_type": "code",
      "metadata": {
        "id": "f73TKElOQAmc",
        "colab_type": "code",
        "colab": {}
      },
      "source": [
        "y_train = to_categorical(y_train, num_classes=10)\n",
        "y_test = to_categorical(y_test, num_classes=10)\n"
      ],
      "execution_count": null,
      "outputs": []
    },
    {
      "cell_type": "code",
      "metadata": {
        "id": "3Dm4ABtkQAmh",
        "colab_type": "code",
        "colab": {}
      },
      "source": [
        "train_norm = x_train.astype('float32')\n",
        "test_norm = x_test.astype('float32')\n",
        "# normalize to range 0-1\n",
        "train_norm = train_norm / 255.0\n",
        "test_norm = test_norm / 255.0\n"
      ],
      "execution_count": null,
      "outputs": []
    },
    {
      "cell_type": "code",
      "metadata": {
        "id": "ahcxFVlEZQSj",
        "colab_type": "code",
        "colab": {}
      },
      "source": [
        ""
      ],
      "execution_count": null,
      "outputs": []
    },
    {
      "cell_type": "code",
      "metadata": {
        "id": "-iwes1enZRKi",
        "colab_type": "code",
        "colab": {}
      },
      "source": [
        ""
      ],
      "execution_count": null,
      "outputs": []
    },
    {
      "cell_type": "code",
      "metadata": {
        "id": "uKe6IME9QAml",
        "colab_type": "code",
        "colab": {
          "base_uri": "https://localhost:8080/",
          "height": 1000
        },
        "outputId": "ebaf35f2-245e-4a3f-dafc-8d80e62727be"
      },
      "source": [
        "\n",
        "history = inc_v4.model.fit(x_train_resize, y_train ,epochs=100, batch_size=32, verbose=1, validation_split=0.2\n",
        "                           )"
      ],
      "execution_count": null,
      "outputs": [
        {
          "output_type": "stream",
          "text": [
            "Train on 8000 samples, validate on 2000 samples\n",
            "Epoch 1/100\n",
            "8000/8000 [==============================] - 785s 98ms/step - loss: 2.0366 - accuracy: 0.2070 - val_loss: 3.4544 - val_accuracy: 0.2375\n",
            "Epoch 2/100\n",
            "8000/8000 [==============================] - 781s 98ms/step - loss: 1.8959 - accuracy: 0.2745 - val_loss: 1.8433 - val_accuracy: 0.3050\n",
            "Epoch 3/100\n",
            "8000/8000 [==============================] - 781s 98ms/step - loss: 1.8162 - accuracy: 0.3165 - val_loss: 1.7417 - val_accuracy: 0.3265\n",
            "Epoch 4/100\n",
            "8000/8000 [==============================] - 782s 98ms/step - loss: 1.7725 - accuracy: 0.3341 - val_loss: 1.7278 - val_accuracy: 0.3430\n",
            "Epoch 5/100\n",
            "8000/8000 [==============================] - 785s 98ms/step - loss: 1.7290 - accuracy: 0.3445 - val_loss: 8.9588 - val_accuracy: 0.2325\n",
            "Epoch 6/100\n",
            "8000/8000 [==============================] - 784s 98ms/step - loss: 1.6640 - accuracy: 0.3729 - val_loss: 1.7296 - val_accuracy: 0.3450\n",
            "Epoch 7/100\n",
            "8000/8000 [==============================] - 786s 98ms/step - loss: 1.6354 - accuracy: 0.3905 - val_loss: 2.3725 - val_accuracy: 0.3005\n",
            "Epoch 8/100\n",
            "8000/8000 [==============================] - 785s 98ms/step - loss: 1.5502 - accuracy: 0.4227 - val_loss: 3.0455 - val_accuracy: 0.3535\n",
            "Epoch 9/100\n",
            "8000/8000 [==============================] - 786s 98ms/step - loss: 1.4733 - accuracy: 0.4588 - val_loss: 2.3317 - val_accuracy: 0.2555\n",
            "Epoch 10/100\n",
            "8000/8000 [==============================] - 782s 98ms/step - loss: 1.3799 - accuracy: 0.4964 - val_loss: 1.5962 - val_accuracy: 0.4520\n",
            "Epoch 11/100\n",
            "8000/8000 [==============================] - 786s 98ms/step - loss: 1.3107 - accuracy: 0.5254 - val_loss: 1.8283 - val_accuracy: 0.4475\n",
            "Epoch 12/100\n",
            "8000/8000 [==============================] - 786s 98ms/step - loss: 1.2180 - accuracy: 0.5648 - val_loss: 2.0171 - val_accuracy: 0.4300\n",
            "Epoch 13/100\n",
            "8000/8000 [==============================] - 787s 98ms/step - loss: 1.1730 - accuracy: 0.5775 - val_loss: 1.2777 - val_accuracy: 0.5480\n",
            "Epoch 14/100\n",
            "8000/8000 [==============================] - 783s 98ms/step - loss: 1.1087 - accuracy: 0.6009 - val_loss: 1.7240 - val_accuracy: 0.4675\n",
            "Epoch 15/100\n",
            "8000/8000 [==============================] - 782s 98ms/step - loss: 1.0597 - accuracy: 0.6240 - val_loss: 1.6225 - val_accuracy: 0.5250\n",
            "Epoch 16/100\n",
            "8000/8000 [==============================] - 783s 98ms/step - loss: 1.0251 - accuracy: 0.6404 - val_loss: 2.0269 - val_accuracy: 0.4675\n",
            "Epoch 17/100\n",
            "8000/8000 [==============================] - 782s 98ms/step - loss: 0.9764 - accuracy: 0.6549 - val_loss: 1.1223 - val_accuracy: 0.6035\n",
            "Epoch 18/100\n",
            "8000/8000 [==============================] - 783s 98ms/step - loss: 0.9331 - accuracy: 0.6658 - val_loss: 2.0555 - val_accuracy: 0.5340\n",
            "Epoch 19/100\n",
            "8000/8000 [==============================] - 780s 98ms/step - loss: 0.8674 - accuracy: 0.6899 - val_loss: 1.2282 - val_accuracy: 0.5860\n",
            "Epoch 20/100\n",
            "8000/8000 [==============================] - 782s 98ms/step - loss: 0.8282 - accuracy: 0.7086 - val_loss: 1.4336 - val_accuracy: 0.5750\n",
            "Epoch 21/100\n",
            "8000/8000 [==============================] - 781s 98ms/step - loss: 0.7887 - accuracy: 0.7207 - val_loss: 1.9577 - val_accuracy: 0.4990\n",
            "Epoch 22/100\n",
            "8000/8000 [==============================] - 782s 98ms/step - loss: 0.7919 - accuracy: 0.7201 - val_loss: 3.4624 - val_accuracy: 0.4300\n",
            "Epoch 23/100\n",
            "8000/8000 [==============================] - 782s 98ms/step - loss: 0.7097 - accuracy: 0.7538 - val_loss: 2.2404 - val_accuracy: 0.4945\n",
            "Epoch 24/100\n",
            "8000/8000 [==============================] - 784s 98ms/step - loss: 0.6270 - accuracy: 0.7807 - val_loss: 1.6949 - val_accuracy: 0.5740\n",
            "Epoch 25/100\n",
            "8000/8000 [==============================] - 784s 98ms/step - loss: 0.5861 - accuracy: 0.7952 - val_loss: 3.4896 - val_accuracy: 0.3870\n",
            "Epoch 26/100\n",
            "8000/8000 [==============================] - 781s 98ms/step - loss: 0.5482 - accuracy: 0.8087 - val_loss: 2.2851 - val_accuracy: 0.5285\n",
            "Epoch 27/100\n",
            "8000/8000 [==============================] - 783s 98ms/step - loss: 0.4965 - accuracy: 0.8239 - val_loss: 1.2372 - val_accuracy: 0.6455\n",
            "Epoch 28/100\n",
            "8000/8000 [==============================] - 783s 98ms/step - loss: 0.4735 - accuracy: 0.8356 - val_loss: 2.6269 - val_accuracy: 0.5440\n",
            "Epoch 29/100\n",
            "8000/8000 [==============================] - 783s 98ms/step - loss: 0.3955 - accuracy: 0.8644 - val_loss: 3.9456 - val_accuracy: 0.4130\n",
            "Epoch 30/100\n",
            "8000/8000 [==============================] - 780s 98ms/step - loss: 0.3778 - accuracy: 0.8687 - val_loss: 1.5217 - val_accuracy: 0.6040\n",
            "Epoch 31/100\n",
            "8000/8000 [==============================] - 780s 97ms/step - loss: 0.3379 - accuracy: 0.8870 - val_loss: 1.6663 - val_accuracy: 0.6125\n",
            "Epoch 32/100\n",
            "8000/8000 [==============================] - 778s 97ms/step - loss: 0.3144 - accuracy: 0.8924 - val_loss: 2.1409 - val_accuracy: 0.5530\n",
            "Epoch 33/100\n",
            "8000/8000 [==============================] - 779s 97ms/step - loss: 0.2726 - accuracy: 0.9090 - val_loss: 2.1791 - val_accuracy: 0.5855\n",
            "Epoch 34/100\n",
            "8000/8000 [==============================] - 778s 97ms/step - loss: 0.2447 - accuracy: 0.9166 - val_loss: 2.0521 - val_accuracy: 0.5920\n",
            "Epoch 35/100\n",
            "8000/8000 [==============================] - 778s 97ms/step - loss: 0.2430 - accuracy: 0.9191 - val_loss: 2.2385 - val_accuracy: 0.5885\n",
            "Epoch 36/100\n",
            "8000/8000 [==============================] - 778s 97ms/step - loss: 0.2125 - accuracy: 0.9300 - val_loss: 2.0102 - val_accuracy: 0.6280\n",
            "Epoch 37/100\n",
            "8000/8000 [==============================] - 778s 97ms/step - loss: 0.1904 - accuracy: 0.9339 - val_loss: 1.6044 - val_accuracy: 0.6660\n",
            "Epoch 38/100\n",
            "8000/8000 [==============================] - 778s 97ms/step - loss: 0.1770 - accuracy: 0.9395 - val_loss: 2.9892 - val_accuracy: 0.5430\n",
            "Epoch 39/100\n",
            "8000/8000 [==============================] - 778s 97ms/step - loss: 0.1822 - accuracy: 0.9360 - val_loss: 1.8545 - val_accuracy: 0.6365\n",
            "Epoch 40/100\n",
            "8000/8000 [==============================] - 778s 97ms/step - loss: 0.1570 - accuracy: 0.9484 - val_loss: 3.2175 - val_accuracy: 0.5580\n",
            "Epoch 41/100\n",
            "8000/8000 [==============================] - 778s 97ms/step - loss: 0.1536 - accuracy: 0.9496 - val_loss: 1.8713 - val_accuracy: 0.6350\n",
            "Epoch 42/100\n",
            "8000/8000 [==============================] - 778s 97ms/step - loss: 0.1563 - accuracy: 0.9488 - val_loss: 5.5006 - val_accuracy: 0.4785\n",
            "Epoch 43/100\n",
            "8000/8000 [==============================] - 778s 97ms/step - loss: 0.1410 - accuracy: 0.9536 - val_loss: 3.2725 - val_accuracy: 0.5810\n",
            "Epoch 44/100\n",
            "8000/8000 [==============================] - 778s 97ms/step - loss: 0.1285 - accuracy: 0.9530 - val_loss: 1.8087 - val_accuracy: 0.6490\n"
          ],
          "name": "stdout"
        }
      ]
    },
    {
      "cell_type": "code",
      "metadata": {
        "id": "co8T51H8QAmm",
        "colab_type": "code",
        "colab": {}
      },
      "source": [
        "_, acc = inc_v4.model.evaluate(x_test_resize, y_test, verbose=0)"
      ],
      "execution_count": null,
      "outputs": []
    },
    {
      "cell_type": "code",
      "metadata": {
        "id": "2NAOV9wxQAmo",
        "colab_type": "code",
        "colab": {}
      },
      "source": [
        "acc"
      ],
      "execution_count": null,
      "outputs": []
    },
    {
      "cell_type": "code",
      "metadata": {
        "id": "Sk1rFb4NQAmq",
        "colab_type": "code",
        "colab": {}
      },
      "source": [
        ""
      ],
      "execution_count": null,
      "outputs": []
    }
  ]
}